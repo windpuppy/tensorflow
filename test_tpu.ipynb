{
  "nbformat": 4,
  "nbformat_minor": 0,
  "metadata": {
    "colab": {
      "name": "test_tpu.ipynb",
      "version": "0.3.2",
      "provenance": [],
      "collapsed_sections": [],
      "include_colab_link": true
    },
    "kernelspec": {
      "name": "python3",
      "display_name": "Python 3"
    },
    "accelerator": "TPU"
  },
  "cells": [
    {
      "cell_type": "markdown",
      "metadata": {
        "id": "view-in-github",
        "colab_type": "text"
      },
      "source": [
        "[View in Colaboratory](https://colab.research.google.com/github/windpuppy/tensorflow/blob/master/test_tpu.ipynb)"
      ]
    },
    {
      "metadata": {
        "id": "3R-8Q6I_vb80",
        "colab_type": "code",
        "colab": {
          "base_uri": "https://localhost:8080/",
          "height": 221
        },
        "outputId": "fa94aa99-5046-45c0-dbe8-ad130a1ad044"
      },
      "cell_type": "code",
      "source": [
        "import os\n",
        "import pprint\n",
        "import tensorflow as tf\n",
        "import numpy as np\n",
        "import time\n",
        "\n",
        "if 'COLAB_TPU_ADDR' not in os.environ:\n",
        "  print('ERROR: Not connected to a TPU runtime; please see the first cell in this notebook for instructions!')\n",
        "  exit()\n",
        "  \n",
        "tpu_address = 'grpc://' + os.environ['COLAB_TPU_ADDR']\n",
        "print ('TPU address is', tpu_address)\n",
        "\n",
        "with tf.Session(tpu_address) as session:\n",
        "  devices = session.list_devices()\n",
        "\n",
        "#print('TPU devices:')\n",
        "#pprint.pprint(devices)\n",
        "print('TPU devices:', len(devices), \"in total\")\n",
        "print('')\n",
        "\n",
        "#\n",
        "# small test\n",
        "#\n",
        "\n",
        "def add_op(x, y):\n",
        "  return x + y\n",
        "  \n",
        "x = tf.placeholder(tf.float32, [10,])\n",
        "y = tf.placeholder(tf.float32, [10,])\n",
        "tpu_ops = tf.contrib.tpu.rewrite(add_op, [x, y])\n",
        "session = tf.Session(tpu_address)\n",
        "\n",
        "try:\n",
        "  print('Initializing...')\n",
        "  session.run(tf.contrib.tpu.initialize_system())\n",
        "  print('Running ops')\n",
        "  print(session.run(tpu_ops, {x: np.arange(10), y: np.arange(10)}))\n",
        "finally:\n",
        "  # For now, TPU sessions must be shutdown separately from\n",
        "  # closing the session.\n",
        "  print('Shutting down...')\n",
        "  session.run(tf.contrib.tpu.shutdown_system())\n",
        "  session.close()\n",
        "print('')\n",
        "  \n",
        "#\n",
        "# profiler test\n",
        "#\n",
        "\n",
        "N = 4096\n",
        "COUNT = 100\n",
        "\n",
        "def flops():\n",
        "  x = tf.random_uniform([N, N])\n",
        "  y = tf.random_uniform([N, N])\n",
        "  def _matmul(x, y):\n",
        "    return tf.tensordot(x, y, axes=[[1], [0]]), y\n",
        "\n",
        "  return tf.reduce_sum(\n",
        "    tf.contrib.tpu.repeat(COUNT, _matmul, [x, y])\n",
        "  )\n",
        "  \n",
        "tpu_ops = tf.contrib.tpu.batch_parallel(flops, [], num_shards=8)\n",
        "session = tf.Session(tpu_address)\n",
        "\n",
        "try:\n",
        "  print('Initializing...')\n",
        "  session.run(tf.contrib.tpu.initialize_system())\n",
        "  print('Profiling')\n",
        "  start = time.time()\n",
        "  session.run(tpu_ops)\n",
        "  elapsed = time.time() - start\n",
        "  print(elapsed, 'seconds, TFlops: {:.2f}'.format(1e-12 * 8 * COUNT * 2*N*N*N / elapsed))\n",
        "finally:\n",
        "  print('Shutting down...')\n",
        "  session.run(tf.contrib.tpu.shutdown_system())\n",
        "  session.close()"
      ],
      "execution_count": 8,
      "outputs": [
        {
          "output_type": "stream",
          "text": [
            "TPU address is grpc://10.63.130.250:8470\n",
            "TPU devices: 12 in total\n",
            "\n",
            "Initializing...\n",
            "Running ops\n",
            "[array([ 0.,  2.,  4.,  6.,  8., 10., 12., 14., 16., 18.], dtype=float32)]\n",
            "Shutting down...\n",
            "\n",
            "Initializing...\n",
            "Profiling\n",
            "1.035811424255371 seconds, TFlops: 106.15\n",
            "Shutting down...\n"
          ],
          "name": "stdout"
        }
      ]
    }
  ]
}